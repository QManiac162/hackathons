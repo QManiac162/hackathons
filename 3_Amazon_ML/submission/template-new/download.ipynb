{
 "cells": [
  {
   "cell_type": "code",
   "execution_count": 1,
   "metadata": {},
   "outputs": [],
   "source": [
    "import os\n",
    "import requests\n",
    "from tqdm import tqdm\n",
    "from pathlib import Path\n",
    "\n",
    "# Create directory to store downloaded images\n",
    "os.makedirs('images', exist_ok=True)"
   ]
  },
  {
   "cell_type": "code",
   "execution_count": 2,
   "metadata": {},
   "outputs": [],
   "source": [
    "def download_image(image_url, save_path):\n",
    "    try:\n",
    "        response = requests.get(image_url, stream=True, timeout=10)\n",
    "        if response.status_code == 200:\n",
    "            with open(save_path, 'wb') as f:\n",
    "                for chunk in response.iter_content(1024):\n",
    "                    f.write(chunk)\n",
    "        else:\n",
    "            print(f\"Failed to download {image_url} (Status code: {response.status_code})\")\n",
    "    except Exception as e:\n",
    "        print(f\"Error downloading {image_url}: {e}\")"
   ]
  },
  {
   "cell_type": "code",
   "execution_count": null,
   "metadata": {},
   "outputs": [],
   "source": [
    "import pandas as pd\n",
    "\n",
    "# Load the CSV file\n",
    "train_df = pd.read_csv('./dataset/train.csv')\n",
    "\n",
    "# Extract the first 10,000 rows\n",
    "train_df = train_df.iloc[60000:100000]\n",
    "\n",
    "# Loop through the dataset and download images using their original filenames\n",
    "for index, row in tqdm(train_df.iterrows(), total=len(train_df)):\n",
    "    image_url = row['image_link']\n",
    "    image_name = Path(image_url).name\n",
    "    image_path = os.path.join('images', image_name)\n",
    "    download_image(image_url, image_path)\n",
    "\n",
    "print(\"Download complete!\")"
   ]
  }
 ],
 "metadata": {
  "kernelspec": {
   "display_name": "Python 3",
   "language": "python",
   "name": "python3"
  },
  "language_info": {
   "codemirror_mode": {
    "name": "ipython",
    "version": 3
   },
   "file_extension": ".py",
   "mimetype": "text/x-python",
   "name": "python",
   "nbconvert_exporter": "python",
   "pygments_lexer": "ipython3",
   "version": "3.11.8"
  }
 },
 "nbformat": 4,
 "nbformat_minor": 2
}
