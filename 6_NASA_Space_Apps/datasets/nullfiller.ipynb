{
 "cells": [
  {
   "cell_type": "code",
   "execution_count": 5,
   "metadata": {},
   "outputs": [
    {
     "name": "stdout",
     "output_type": "stream",
     "text": [
      "<class 'pandas.core.frame.DataFrame'>\n",
      "RangeIndex: 5765 entries, 0 to 5764\n",
      "Columns: 319 entries, rowid to pl_ndispec\n",
      "dtypes: float64(216), int64(24), object(79)\n",
      "memory usage: 14.0+ MB\n"
     ]
    },
    {
     "data": {
      "text/plain": [
       "(None,\n",
       " rowid              0\n",
       " pl_name            0\n",
       " hostname           0\n",
       " pl_letter          0\n",
       " hd_name         4778\n",
       "                 ... \n",
       " st_nrvc            0\n",
       " st_nspec           0\n",
       " pl_nespec          0\n",
       " pl_ntranspec       0\n",
       " pl_ndispec         0\n",
       " Length: 319, dtype: int64)"
      ]
     },
     "execution_count": 5,
     "metadata": {},
     "output_type": "execute_result"
    }
   ],
   "source": [
    "import pandas as pd\n",
    "\n",
    "# Load the dataset to inspect its structure and null values\n",
    "file_path = 'all_columns.csv'\n",
    "data = pd.read_csv(file_path)\n",
    "\n",
    "# Checking for null values and basic structure\n",
    "data_info = data.info()\n",
    "null_values = data.isnull().sum()\n",
    "\n",
    "data_info, null_values"
   ]
  },
  {
   "cell_type": "code",
   "execution_count": 6,
   "metadata": {},
   "outputs": [
    {
     "data": {
      "text/plain": [
       "23060"
      ]
     },
     "execution_count": 6,
     "metadata": {},
     "output_type": "execute_result"
    }
   ],
   "source": [
    "# Separate numerical and categorical columns\n",
    "numerical_cols = data.select_dtypes(include=['int64', 'float64']).columns\n",
    "categorical_cols = data.select_dtypes(include=['object']).columns\n",
    "\n",
    "# Fill numerical columns with mean or median (if skewed)\n",
    "data[numerical_cols] = data[numerical_cols].apply(lambda col: col.fillna(col.median() if col.skew() > 0.5 else col.mean()))\n",
    "\n",
    "# Fill categorical columns with the mode (most frequent value)\n",
    "data[categorical_cols] = data[categorical_cols].apply(lambda col: col.fillna(col.mode()[0]))\n",
    "\n",
    "# Check if there are any remaining null values\n",
    "remaining_nulls = data.isnull().sum().sum()\n",
    "\n",
    "remaining_nulls  # Should be 0 if all nulls are filled"
   ]
  },
  {
   "cell_type": "code",
   "execution_count": 7,
   "metadata": {},
   "outputs": [
    {
     "data": {
      "text/plain": [
       "0"
      ]
     },
     "execution_count": 7,
     "metadata": {},
     "output_type": "execute_result"
    }
   ],
   "source": [
    "# Fill remaining categorical columns with 'Unknown' for nulls\n",
    "data[categorical_cols] = data[categorical_cols].fillna('Unknown')\n",
    "\n",
    "# Fill remaining numerical columns with 0 for nulls\n",
    "data[numerical_cols] = data[numerical_cols].fillna(0)\n",
    "\n",
    "# Check if all null values are filled now\n",
    "remaining_nulls_after_fill = data.isnull().sum().sum()\n",
    "\n",
    "remaining_nulls_after_fill  # Should be 0 if all nulls are handled"
   ]
  },
  {
   "cell_type": "code",
   "execution_count": 8,
   "metadata": {},
   "outputs": [
    {
     "name": "stdout",
     "output_type": "stream",
     "text": [
      "Updated data saved to updated_all_columns.csv\n"
     ]
    }
   ],
   "source": [
    "# Save the updated data to a new CSV file\n",
    "updated_file_path = 'updated_all_columns.csv'\n",
    "data.to_csv(updated_file_path, index=False)\n",
    "\n",
    "print(f\"Updated data saved to {updated_file_path}\")"
   ]
  }
 ],
 "metadata": {
  "kernelspec": {
   "display_name": "Python 3",
   "language": "python",
   "name": "python3"
  },
  "language_info": {
   "codemirror_mode": {
    "name": "ipython",
    "version": 3
   },
   "file_extension": ".py",
   "mimetype": "text/x-python",
   "name": "python",
   "nbconvert_exporter": "python",
   "pygments_lexer": "ipython3",
   "version": "3.11.8"
  }
 },
 "nbformat": 4,
 "nbformat_minor": 2
}
